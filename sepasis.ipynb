{
 "cells": [
  {
   "cell_type": "code",
   "execution_count": 1,
   "id": "6d021169",
   "metadata": {},
   "outputs": [
    {
     "name": "stdout",
     "output_type": "stream",
     "text": [
      "[[ 0.14213381  0.16196068]\n",
      " [-0.28426762 -0.46274481]\n",
      " [ 0.99493668  0.99490135]\n",
      " [ 0.56853524  0.78666618]\n",
      " [-1.13707049 -1.29568548]\n",
      " [-1.77667264 -1.50392064]\n",
      " [-0.71066905 -0.87921515]\n",
      " [ 1.42133811  1.20313651]\n",
      " [ 0.78173596  0.99490135]]\n",
      "[1 1 0 0 0 1 1 0 0]\n",
      "Confusion Matrix : \n",
      " [[5 0]\n",
      " [0 4]]\n",
      "Accuracy :  1.0\n"
     ]
    },
    {
     "name": "stderr",
     "output_type": "stream",
     "text": [
      "*c* argument looks like a single numeric RGB or RGBA sequence, which should be avoided as value-mapping will have precedence in case its length matches with *x* & *y*.  Please use the *color* keyword-argument or provide a 2D array with a single row if you intend to specify the same RGB or RGBA value for all points.\n"
     ]
    },
    {
     "data": {
      "image/png": "[encoded data removed]",
      "text/plain": [
       "<Figure size 432x288 with 1 Axes>"
      ]
     },
     "metadata": {
      "needs_background": "light"
     },
     "output_type": "display_data"
    }
   ],
   "source": [
    "import pandas as pd\n",
    "import numpy as np\n",
    "import matplotlib.pyplot as plt\n",
    "import math\n",
    "dataset = pd.read_csv('C:/Users/asus/Desktop/my patents/pupil vs wmc project/d1global.csv')\n",
    "# input\n",
    "mean_value=dataset['year'].mean()\n",
    "mean_value1=dataset['diahorrea'].mean()\n",
    "mean_value2=dataset['hiv'].mean()\n",
    "mean_value3=dataset['malaria'].mean()\n",
    "mean_value4=dataset['measels'].mean()\n",
    "mean_value5=dataset['meningitis'].mean()\n",
    "\n",
    "\n",
    "\n",
    "\n",
    "mean_value10=0\n",
    "  \n",
    "# Replace NaNs in column S2 with the\n",
    "# mean of values in the same column\n",
    "dataset['year'].fillna(value=mean_value, inplace=True)\n",
    "mean_value1=dataset['diahorrea'].mean()\n",
    "mean_value2=dataset['hiv'].mean()\n",
    "mean_value3=dataset['malaria'].mean()\n",
    "mean_value4=dataset['measels'].mean()\n",
    "mean_value5=dataset['meningitis'].mean()\n",
    "mean_value6=dataset['other'].mean()\n",
    "mean_value7=dataset['premature'].mean()\n",
    "mean_value8=dataset['sepasis'].mean()\n",
    "mean_value9=dataset['teatnus'].mean()\n",
    "\n",
    "\n",
    "\n",
    "dataset['decision'].fillna(value=mean_value10, inplace=True)\n",
    "\n",
    "x = dataset.iloc[:,[0,2]].values\n",
    "\n",
    "\n",
    "# output\n",
    "y = dataset.iloc[:, 11].values\n",
    "from sklearn.model_selection import train_test_split\n",
    "xtrain, xtest, ytrain, ytest = train_test_split(\n",
    "\t\tx, y, test_size = 0.5, random_state = 0)\n",
    "from sklearn.preprocessing import StandardScaler\n",
    "sc_x = StandardScaler()\n",
    "xtrain = sc_x.fit_transform(xtrain)\n",
    "xtest = sc_x.transform(xtest)\n",
    "\n",
    " \n",
    "print (xtrain[0:100, :])\n",
    "\n",
    "from sklearn.linear_model import LogisticRegression\n",
    "classifier = LogisticRegression(random_state = 0)\n",
    "\n",
    "classifier.fit(xtrain, ytrain)\n",
    "\n",
    "\n",
    "\n",
    "y_pred = classifier.predict(xtest)\n",
    "print(y_pred)\n",
    "from sklearn.metrics import confusion_matrix\n",
    "cm = confusion_matrix(ytest, y_pred)\n",
    "\n",
    "print (\"Confusion Matrix : \\n\", cm)\n",
    "from sklearn.metrics import accuracy_score\n",
    "print (\"Accuracy : \", accuracy_score(ytest, y_pred))\n",
    "from matplotlib.colors import ListedColormap\n",
    "X_set, y_set = xtest, ytest\n",
    "X1, X2 = np.meshgrid(np.arange(start = X_set[:, 0].min() - 1,\n",
    "\t\t\t\t\t\t\tstop = X_set[:, 0].max() + 1, step = 0.01),\n",
    "\t\t\t\t\tnp.arange(start = X_set[:, 1].min() - 1,\n",
    "\t\t\t\t\t\t\tstop = X_set[:, 1].max() + 1, step = 0.01))\n",
    "\n",
    "plt.contourf(X1, X2, classifier.predict(\n",
    "\t\t\tnp.array([X1.ravel(), X2.ravel()]).T).reshape(\n",
    "\t\t\tX1.shape), alpha = 0.75, cmap = ListedColormap(('red', 'green')))\n",
    "\n",
    "plt.xlim(X1.min(), X1.max())\n",
    "plt.ylim(X2.min(), X2.max())\n",
    "\n",
    "for i, j in enumerate(np.unique(y_set)):\n",
    "\tplt.scatter(X_set[y_set == j, 0], X_set[y_set == j, 1],\n",
    "\t\t\t\tc = ListedColormap(('red', 'green'))(i), label = j)\n",
    "\t\n",
    "plt.title('Classifier (Test set)')\n",
    "plt.xlabel('Year')\n",
    "plt.ylabel('sepasis')\n",
    "plt.legend()\n",
    "plt.show()\n",
    "\n",
    "\n"
   ]
  },
  {
   "cell_type": "code",
   "execution_count": null,
   "id": "6dc47fd5",
   "metadata": {},
   "outputs": [],
   "source": []
  }
 ],
 "metadata": {
  "kernelspec": {
   "display_name": "Python 3 (ipykernel)",
   "language": "python",
   "name": "python3"
  },
  "language_info": {
   "codemirror_mode": {
    "name": "ipython",
    "version": 3
   },
   "file_extension": ".py",
   "mimetype": "text/x-python",
   "name": "python",
   "nbconvert_exporter": "python",
   "pygments_lexer": "ipython3",
   "version": "3.9.7"
  }
 },
 "nbformat": 4,
 "nbformat_minor": 5
}
